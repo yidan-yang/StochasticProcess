{
 "cells": [
  {
   "cell_type": "code",
   "execution_count": 1,
   "metadata": {},
   "outputs": [],
   "source": [
    "import numpy as np\n",
    "import pandas as pd\n",
    "import scipy.stats as stats\n",
    "import matplotlib.pyplot as plt\n",
    "%matplotlib inline"
   ]
  },
  {
   "cell_type": "markdown",
   "metadata": {},
   "source": [
    "Simulate the number of customers served by the self check-out machine in 5-hour shift.\n",
    "\n",
    "customer arrival times at the front of the line is simulated by sampling between-customer times from $Exp(\\lambda)$ via np.random.exponential, where $\\lambda$ will depend on the state of the machine (working or broken)\n",
    "\n",
    "return: number of customoer arrivals in 5-hour shift.\n",
    "\n",
    "number of simulation: 5000"
   ]
  },
  {
   "cell_type": "code",
   "execution_count": 4,
   "metadata": {},
   "outputs": [
    {
     "data": {
      "text/plain": [
       "141.1536"
      ]
     },
     "execution_count": 4,
     "metadata": {},
     "output_type": "execute_result"
    }
   ],
   "source": [
    "#np.random.seed(505)\n",
    "\n",
    "sample = np.zeros((5000))\n",
    "for ind in range(5000):\n",
    "    rate1 = 0.5\n",
    "    rate2= 0.1\n",
    "    T = 0\n",
    "    counter = 0\n",
    "    num_sim =5000\n",
    "    dist = np.random.binomial(1,0.9,num_sim)\n",
    "    for i in range(num_sim):\n",
    "        while T < 300:\n",
    "            if dist[i] == 1:\n",
    "                T = T + np.random.exponential(1/rate1)\n",
    "                counter += 1\n",
    "            else:\n",
    "                T = T + np.random.exponential(1/rate2)\n",
    "                counter += 1\n",
    "    sample[ind] = counter\n",
    "\n",
    "sample\n",
    "#len(sample[sample>100])/len(sample)\n",
    "people = np.mean(sample)\n",
    "people\n"
   ]
  },
  {
   "cell_type": "code",
   "execution_count": 94,
   "metadata": {},
   "outputs": [
    {
     "data": {
      "text/plain": [
       "array([106., 110., 114., 103., 137., 114., 123., 126., 120., 134., 121.,\n",
       "       123., 106., 109., 128., 121., 132., 118., 130., 131., 146., 139.,\n",
       "       133., 109., 105., 121., 108., 106., 118., 130., 133., 149., 123.,\n",
       "       113., 117., 116., 127., 123., 122., 117., 122., 124., 122., 121.,\n",
       "       116., 139., 122.,  99., 109., 127.])"
      ]
     },
     "execution_count": 94,
     "metadata": {},
     "output_type": "execute_result"
    }
   ],
   "source": [
    "# np.random.seed(505)\n",
    "num_sim = 50\n",
    "sample = np.zeros((num_sim))\n",
    "for ind in range(num_sim):\n",
    "    rate1 = 0.4\n",
    "    rate2= 0.1\n",
    "    T = 0\n",
    "    counter = 0\n",
    "    dist = np.random.binomial(1,1,num_sim)\n",
    "    for i in range(num_sim):\n",
    "        while T < 300:\n",
    "            if dist[i] == 1:\n",
    "                T = T + np.random.exponential(1/rate1)\n",
    "                counter += 1\n",
    "            else:\n",
    "                T = T + np.random.exponential(1/rate2)\n",
    "                counter += 1\n",
    "    sample[ind] = counter\n",
    "sample\n",
    "\n",
    "\n",
    "#len(sample[sample>100])/len(sample)"
   ]
  },
  {
   "cell_type": "code",
   "execution_count": 5,
   "metadata": {},
   "outputs": [
    {
     "data": {
      "text/plain": [
       "0.9732"
      ]
     },
     "execution_count": 5,
     "metadata": {},
     "output_type": "execute_result"
    }
   ],
   "source": [
    "# np.random.seed(505)\n",
    "# use the counter way\n",
    "num_sim = 5000\n",
    "# sample = np.zeros((num_sim))\n",
    "count = 0 # counter for X > 100\n",
    "for ind in range(num_sim):\n",
    "    rate1 = 0.4\n",
    "    rate2= 0.1\n",
    "    T = 0\n",
    "    counter = 0\n",
    "    dist = np.random.binomial(1,1,num_sim)\n",
    "    for i in range(num_sim):\n",
    "        while T < 300:\n",
    "            if dist[i] == 1:\n",
    "                T = T + np.random.exponential(1/rate1)\n",
    "                counter += 1\n",
    "            else:\n",
    "                T = T + np.random.exponential(1/rate2)\n",
    "                counter += 1\n",
    "    if counter > 100:\n",
    "        count += 1\n",
    "count/5000"
   ]
  },
  {
   "cell_type": "code",
   "execution_count": 6,
   "metadata": {},
   "outputs": [],
   "source": [
    "def checkout_count(rate1,rate2,p):\n",
    "    # rate1 = rate parameter for working machine\n",
    "    # rate2 = rate parameter for broken machine\n",
    "    # p is \n",
    "    # 5 hours = 300 mins\n",
    "    num_sim =5000\n",
    "    sample =  np.zeros((num_sim))\n",
    "    for ind in range(num_sim):\n",
    "        T = 0\n",
    "        counter = 0\n",
    "        dist = np.random.binomial(1,p,num_sim)\n",
    "        for i in range(num_sim):\n",
    "            while T < 300:\n",
    "                if dist[i] == 1:\n",
    "                    T = T + np.random.exponential(1/rate1)\n",
    "                    counter += 1\n",
    "                else:\n",
    "                    T = T + np.random.exponential(1/rate2)\n",
    "                    counter += 1\n",
    "        sample[ind] = counter\n",
    "    return(print(\"The number of customers is {:0.0f}\".format(np.mean(sample)),end='\\n'\n",
    "                 \"The probability of the self check-out machine serves 100 or more is {:0.5f}\".format(len(sample[sample>100])/len(sample))))\n"
   ]
  },
  {
   "cell_type": "markdown",
   "metadata": {},
   "source": [
    "Roof lifetime, exponential distribution simulation"
   ]
  },
  {
   "cell_type": "code",
   "execution_count": 27,
   "metadata": {},
   "outputs": [
    {
     "name": "stdout",
     "output_type": "stream",
     "text": [
      "29.780344704774333\n"
     ]
    }
   ],
   "source": [
    "num_sim = 5000\n",
    "roof = np.random.exponential(20,num_sim)\n",
    "\n",
    "s = 0 # sum\n",
    "counter = 0\n",
    "for i in range(num_sim):\n",
    "    if roof[i] > 10:\n",
    "        s += roof[i]\n",
    "        counter += 1\n",
    "mean = s/counter\n",
    "print(mean)"
   ]
  },
  {
   "cell_type": "code",
   "execution_count": 14,
   "metadata": {},
   "outputs": [
    {
     "name": "stdout",
     "output_type": "stream",
     "text": [
      "10.792116745183709\n",
      "25.482505060266085\n",
      "0.0022876271728617184\n",
      "7.200255097078379\n",
      "3.174191903893478\n",
      "1.937677433074669\n",
      "4.12229268164161\n",
      "8.479529636141496\n",
      "10.109050834214969\n",
      "15.479195497215146\n"
     ]
    }
   ],
   "source": [
    "np.random.seed(1)\n",
    "num_sim = 10\n",
    "roof = np.random.exponential(20,num_sim)\n",
    "s = 0\n",
    "counter = 0\n",
    "for i in roof:\n",
    "    print(i)\n",
    "\n",
    "# loop the roof array directly"
   ]
  },
  {
   "cell_type": "code",
   "execution_count": 34,
   "metadata": {},
   "outputs": [
    {
     "name": "stdout",
     "output_type": "stream",
     "text": [
      "30.13151237835097\n"
     ]
    }
   ],
   "source": [
    "# the difference between this chunk and previous is the way of loop: \n",
    "# (1). loop i in number_of_simulatiom\n",
    "# (2). loop i in roof ie. the exponential random array itself\n",
    "\n",
    "num_sim = 1000\n",
    "roof = np.random.exponential(20,num_sim)\n",
    "s = 0\n",
    "counter = 0\n",
    "for i in roof:\n",
    "    if i > 10:\n",
    "        s += i\n",
    "        counter += 1\n",
    "mean = s/counter\n",
    "print(mean)"
   ]
  },
  {
   "cell_type": "code",
   "execution_count": null,
   "metadata": {},
   "outputs": [],
   "source": []
  }
 ],
 "metadata": {
  "kernelspec": {
   "display_name": "Python 3",
   "language": "python",
   "name": "python3"
  },
  "language_info": {
   "codemirror_mode": {
    "name": "ipython",
    "version": 3
   },
   "file_extension": ".py",
   "mimetype": "text/x-python",
   "name": "python",
   "nbconvert_exporter": "python",
   "pygments_lexer": "ipython3",
   "version": "3.6.5"
  }
 },
 "nbformat": 4,
 "nbformat_minor": 2
}
